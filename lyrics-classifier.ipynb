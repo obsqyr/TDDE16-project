{
 "cells": [
  {
   "cell_type": "code",
   "execution_count": 14,
   "metadata": {
    "scrolled": true
   },
   "outputs": [
    {
     "name": "stdout",
     "output_type": "stream",
     "text": [
      "['electronic', 'metal', 'rock', 'rap', 'experimental', 'pop/r&b', 'folk/country', 'jazz', 'global']\n"
     ]
    }
   ],
   "source": [
    "# https://www.kaggle.com/nolanbconaway/pitchfork-data\n",
    "\n",
    "# scrape from genius\n",
    "# https://chrishyland.github.io/scraping-from-genius/\n",
    "# https://medium.com/analytics-vidhya/how-to-scrape-song-lyrics-a-gentle-python-tutorial-5b1d4ab351d2\n",
    "import sqlite3\n",
    "import pandas as pd\n",
    "\n",
    "# import data\n",
    "con = sqlite3.connect('pitchfork.sqlite')\n",
    "genres = pd.read_sql('SELECT * FROM genres', con)\n",
    "artists = pd.read_sql('SELECT * FROM artists', con)\n",
    "reviews = pd.read_sql('SELECT * FROM reviews', con)\n",
    "con.close()\n",
    "\n",
    "scores = pd.concat([reviews['reviewid'], reviews['score']], axis=1)\n",
    "albums = pd.concat([reviews['reviewid'], reviews['title']], axis=1)\n",
    "\n",
    "genre_classes = genres['genre'].unique()\n",
    "#genre_classes = ['None' if v is None else v for v in genre_classes]\n",
    "genre_classes = [i for i in genre_classes if i]\n",
    "print(genre_classes)\n",
    "\n",
    "# combine genres and artists\n",
    "data = pd.merge(pd.merge(pd.merge(genres, albums, on = 'reviewid'), artists, on='reviewid'), scores, on='reviewid') \n",
    "\n",
    "# remove 'various artists'\n",
    "data = data[data.artist != 'various artists']\n",
    "\n",
    "# remove None genre\n",
    "data = data.dropna()\n",
    "\n",
    "# sort by alphabetically by artist\n",
    "data = data.sort_values(by=['score'], ascending=False)\n",
    "\n",
    "df_train = data[0:15000]\n",
    "df_test = data[15000:len(data)]\n"
   ]
  },
  {
   "cell_type": "code",
   "execution_count": 15,
   "metadata": {},
   "outputs": [],
   "source": [
    "# generate files of artist-album from each genre\n",
    "\n",
    "# initialize empty genre.txt\n",
    "for genre in genre_classes:\n",
    "    if genre == 'pop/r&b':\n",
    "        f = open(\"artist_album/pop-rnb.txt\", \"w+\")\n",
    "        f.close()\n",
    "    elif genre == 'folk/country':\n",
    "        f = open(\"artist_album/folk-country.txt\", \"w+\")\n",
    "        f.close()\n",
    "    else:\n",
    "        f = open(\"artist_album/\"+genre+\".txt\", \"w+\")\n",
    "        f.close()\n",
    "    \n",
    "# fill the genre.txt with artist_albums\n",
    "for i, row in enumerate(data.itertuples()):\n",
    "    if i < 1000:\n",
    "        if row.genre == 'pop/r&b':\n",
    "            f = open(\"artist_album/pop-rnb.txt\", \"a+\")\n",
    "            f.write(row.artist + \"_\" + row.title + \";\")\n",
    "            f.close()\n",
    "            continue\n",
    "        if row.genre == 'folk/country':\n",
    "            f = open(\"artist_album/folk-country.txt\", \"a+\")\n",
    "            f.write(row.artist + \"_\" + row.title + \";\")\n",
    "            f.close()\n",
    "            continue\n",
    "        f = open(\"artist_album/\"+row.genre+\".txt\", \"a+\")\n",
    "        f.write(row.artist + \"_\" + row.title + \";\")\n",
    "        f.close()"
   ]
  },
  {
   "cell_type": "code",
   "execution_count": 43,
   "metadata": {},
   "outputs": [
    {
     "name": "stdout",
     "output_type": "stream",
     "text": [
      "              precision    recall  f1-score   support\n",
      "\n",
      "  electronic       0.56      0.36      0.44      1186\n",
      "experimental       0.67      0.15      0.25       611\n",
      "folk/country       0.87      0.22      0.35       185\n",
      "      global       1.00      0.07      0.14        55\n",
      "        jazz       0.71      0.02      0.04       227\n",
      "       metal       0.80      0.03      0.06       247\n",
      "     pop/r&b       0.54      0.13      0.21       297\n",
      "         rap       0.71      0.36      0.48       322\n",
      "        rock       0.57      0.94      0.71      2944\n",
      "\n",
      "    accuracy                           0.58      6074\n",
      "   macro avg       0.72      0.25      0.30      6074\n",
      "weighted avg       0.61      0.58      0.51      6074\n",
      "\n"
     ]
    }
   ],
   "source": [
    "# classifier (genre based on artist name)\n",
    "from sklearn.naive_bayes import MultinomialNB\n",
    "from sklearn.pipeline import Pipeline\n",
    "from sklearn.feature_extraction.text import CountVectorizer\n",
    "from sklearn.metrics import classification_report\n",
    "\n",
    "pipe = Pipeline([('vectorizer', CountVectorizer()), ('nb', MultinomialNB())])\n",
    "pipe.fit(df_train['artist'], df_train['genre'])\n",
    "print(classification_report(y_true = df_test['genre'], y_pred=pipe.predict(df_test['artist'])))"
   ]
  },
  {
   "cell_type": "code",
   "execution_count": 44,
   "metadata": {},
   "outputs": [
    {
     "name": "stdout",
     "output_type": "stream",
     "text": [
      "AxesSubplot(0.125,0.125;0.775x0.755)\n"
     ]
    },
    {
     "data": {
      "image/png": "[encoded data removed]",
      "text/plain": [
       "<Figure size 432x288 with 1 Axes>"
      ]
     },
     "metadata": {
      "needs_background": "light"
     },
     "output_type": "display_data"
    }
   ],
   "source": [
    "import matplotlib.pyplot as plt\n",
    "\n",
    "print(df_train['genre'].value_counts().plot(kind=\"bar\", title=\"17/18\"))\n"
   ]
  }
 ],
 "metadata": {
  "kernelspec": {
   "display_name": "Python 3",
   "language": "python",
   "name": "python3"
  },
  "language_info": {
   "codemirror_mode": {
    "name": "ipython",
    "version": 3
   },
   "file_extension": ".py",
   "mimetype": "text/x-python",
   "name": "python",
   "nbconvert_exporter": "python",
   "pygments_lexer": "ipython3",
   "version": "3.6.9"
  }
 },
 "nbformat": 4,
 "nbformat_minor": 4
}
