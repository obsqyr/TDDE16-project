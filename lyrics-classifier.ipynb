{
 "cells": [
  {
   "cell_type": "code",
   "execution_count": 3,
   "metadata": {
    "scrolled": true
   },
   "outputs": [
    {
     "name": "stdout",
     "output_type": "stream",
     "text": [
      "['electronic', 'metal', 'rock', 'rap', 'experimental', 'pop/r&b', 'folk/country', 'jazz', 'global']\n",
      "       reviewid         genre  \\\n",
      "18203      6200          rock   \n",
      "3655      19182          rock   \n",
      "1015      21866       pop/r&b   \n",
      "5644      17064  experimental   \n",
      "11272     12852       pop/r&b   \n",
      "...         ...           ...   \n",
      "365       22423  folk/country   \n",
      "14369     10087           rap   \n",
      "910       21868          rock   \n",
      "9883      13988    electronic   \n",
      "16109      7505          rock   \n",
      "\n",
      "                                                 title            artist  \\\n",
      "18203  crooked rain, crooked rain: la's desert origins          pavement   \n",
      "3655                                        spiderland             slint   \n",
      "1015                                        dirty mind            prince   \n",
      "5644                          the disintegration loops  william basinski   \n",
      "11272                        histoire de melody nelson  serge gainsbourg   \n",
      "...                                                ...               ...   \n",
      "365                                 ape in pink marble  devendra banhart   \n",
      "14369                             the undisputed truth       brother ali   \n",
      "910                                            ullages           eagulls   \n",
      "9883                                descending shadows    pierced arrows   \n",
      "16109                                  fab four suture         stereolab   \n",
      "\n",
      "       score  \n",
      "18203   10.0  \n",
      "3655    10.0  \n",
      "1015    10.0  \n",
      "5644    10.0  \n",
      "11272   10.0  \n",
      "...      ...  \n",
      "365      6.6  \n",
      "14369    6.6  \n",
      "910      6.6  \n",
      "9883     6.6  \n",
      "16109    6.6  \n",
      "\n",
      "[15000 rows x 5 columns]\n"
     ]
    }
   ],
   "source": [
    "# https://www.kaggle.com/nolanbconaway/pitchfork-data\n",
    "\n",
    "# scrape from genius\n",
    "# https://chrishyland.github.io/scraping-from-genius/\n",
    "# https://medium.com/analytics-vidhya/how-to-scrape-song-lyrics-a-gentle-python-tutorial-5b1d4ab351d2\n",
    "import sqlite3\n",
    "import pandas as pd\n",
    "\n",
    "# import data\n",
    "con = sqlite3.connect('pitchfork.sqlite')\n",
    "genres = pd.read_sql('SELECT * FROM genres', con)\n",
    "artists = pd.read_sql('SELECT * FROM artists', con)\n",
    "reviews = pd.read_sql('SELECT * FROM reviews', con)\n",
    "con.close()\n",
    "\n",
    "scores = pd.concat([reviews['reviewid'], reviews['score']], axis=1)\n",
    "albums = pd.concat([reviews['reviewid'], reviews['title']], axis=1)\n",
    "\n",
    "genre_classes = genres['genre'].unique()\n",
    "#genre_classes = ['None' if v is None else v for v in genre_classes]\n",
    "genre_classes = [i for i in genre_classes if i]\n",
    "print(genre_classes)\n",
    "\n",
    "# combine genres and artists\n",
    "data = pd.merge(pd.merge(pd.merge(genres, albums, on = 'reviewid'), artists, on='reviewid'), scores, on='reviewid') \n",
    "\n",
    "# remove 'various artists'\n",
    "data = data[data.artist != 'various artists']\n",
    "\n",
    "# remove None genre\n",
    "data = data.dropna()\n",
    "\n",
    "# sort by alphabetically by artist\n",
    "data = data.sort_values(by=['score'], ascending=False)\n",
    "\n",
    "df_train = data[0:15000]\n",
    "df_test = data[15000:len(data)]\n",
    "print(df_train)\n"
   ]
  },
  {
   "cell_type": "code",
   "execution_count": 49,
   "metadata": {},
   "outputs": [],
   "source": [
    "# generate files of artist-album from each genre\n",
    "\n",
    "# init iterator \n",
    "it_genre = {}\n",
    "num_artists = 50\n",
    "\n",
    "# initialize empty genre.txt\n",
    "for genre in genre_classes:\n",
    "    if genre == 'pop/r&b':\n",
    "        f = open(\"artist_album/pop-rnb.txt\", \"w+\")\n",
    "        f.close()\n",
    "        it_genre['pop-rnb'] = num_artists\n",
    "    elif genre == 'folk/country':\n",
    "        f = open(\"artist_album/folk-country.txt\", \"w+\")\n",
    "        f.close()\n",
    "        it_genre['folk-country'] = num_artists\n",
    "    else:\n",
    "        f = open(\"artist_album/\"+genre+\".txt\", \"w+\")\n",
    "        f.close()\n",
    "        it_genre[genre] = num_artists\n",
    "        \n",
    "it_total = sum(it_genre.values())\n",
    "# fill the genre.txt with artist_albums\n",
    "for i, row in enumerate(data.itertuples()):\n",
    "    if sum(it_genre.values()) != 0:\n",
    "        if row.genre == 'pop/r&b':\n",
    "            if it_genre['pop-rnb'] != 0:\n",
    "                f = open(\"artist_album/pop-rnb.txt\", \"a+\")\n",
    "                f.write(row.artist + \"_\" + row.title + \";\")\n",
    "                f.close()\n",
    "                it_genre['pop-rnb'] -= 1\n",
    "        elif row.genre == 'folk/country':\n",
    "            if it_genre['folk-country'] != 0:\n",
    "                f = open(\"artist_album/folk-country.txt\", \"a+\")\n",
    "                f.write(row.artist + \"_\" + row.title + \";\")\n",
    "                f.close()\n",
    "                it_genre['folk-country'] -= 1\n",
    "        else:\n",
    "            if it_genre[row.genre] != 0:\n",
    "                f = open(\"artist_album/\"+row.genre+\".txt\", \"a+\")\n",
    "                f.write(row.artist + \"_\" + row.title + \";\")\n",
    "                f.close()\n",
    "                it_genre[row.genre] -= 1\n",
    "    else:\n",
    "        break"
   ]
  },
  {
   "cell_type": "code",
   "execution_count": 18,
   "metadata": {},
   "outputs": [],
   "source": [
    "# read lyrics from files\n",
    "import os\n",
    "\n",
    "lyrics = []\n",
    "genres = []\n",
    "\n",
    "for filename in os.listdir('lyrics'):\n",
    "    f = open(os.path.join('lyrics', filename), 'r')\n",
    "    lyric = \"\"\n",
    "    for line in f.readlines():\n",
    "        #print(line)\n",
    "        if line != \";\\n\":\n",
    "            lyric += line.replace('\\n','') + ' '\n",
    "        else:\n",
    "            lyrics.append(lyric)\n",
    "            genres.append(filename[:-4])\n",
    "            lyric = \"\"\n",
    "    f.close()"
   ]
  },
  {
   "cell_type": "code",
   "execution_count": 25,
   "metadata": {},
   "outputs": [
    {
     "name": "stdout",
     "output_type": "stream",
     "text": [
      "ween Ocean man, take me by the hand, lead me to the land That you understand Ocean man, the voyage to the corner of the globe Is a real trip Ocean man, the crust of a tan man imbibed by the sand Soaking up the thirst of the land Ocean man, can you see through the wonder of amazement At the Oberman? Ocean man, the crust is elusive when it casts forth To the childlike man Ocean man, the sequence of a life form braised in the sand Soaking up the thirst of the land Ocean man Ocean man Ocean man Ocean man, take me by the hand, lead me to the land That you understand Ocean man, the voyage to the corner of the globe Is a real trip  Ocean man, the crust of a tan man imbibed by the sand Soaking up the thirst of the land Ocean man, can you see through the wonder of amazement At the Oberman? Ocean man, the crust is elusive when it casts forth To the childlike man Ocean man, the sequence of a life form braised in the sand Soaking up the thirst of the land Ocean man \n"
     ]
    }
   ],
   "source": [
    "print(lyrics[9])"
   ]
  },
  {
   "cell_type": "code",
   "execution_count": 31,
   "metadata": {},
   "outputs": [
    {
     "name": "stdout",
     "output_type": "stream",
     "text": [
      "                                                 lyric         genre\n",
      "192  the pharcyde Drop! Let me freak the funk, obso...           rap\n",
      "439  blue cheer Peace of mind To find is not easy W...         metal\n",
      "557  animal collective Child of limousines What's t...          rock\n",
      "592  circulatory system Here comes the perfect day ...          rock\n",
      "848  lali puna That day I lost my head All the thin...          rock\n",
      "..                                                 ...           ...\n",
      "849  lali puna Quit your jobs Don't cross you finge...          rock\n",
      "446  high on fire Stealing the blades from the old ...         metal\n",
      "25   chavez I don't know Where I'm going But I sure...  experimental\n",
      "871  the staple singers Oh, mmm.. I know a place Ai...          rock\n",
      "205  lil wayne I got a story to tell, you know that...           rap\n",
      "\n",
      "[929 rows x 2 columns]\n",
      "                                                 lyric       genre\n",
      "192  the pharcyde Drop! Let me freak the funk, obso...         rap\n",
      "439  blue cheer Peace of mind To find is not easy W...       metal\n",
      "557  animal collective Child of limousines What's t...        rock\n",
      "592  circulatory system Here comes the perfect day ...        rock\n",
      "848  lali puna That day I lost my head All the thin...        rock\n",
      "..                                                 ...         ...\n",
      "505  neutral milk hotel What a beautiful face I hav...        rock\n",
      "319  rjd2 *Ooooh, Oooooh* *You know I hate to see y...  electronic\n",
      "296  xtc Hey, hey, the clouds are whey There's stra...  electronic\n",
      "880  cassetteboy Because we're leaving them to thei...        rock\n",
      "364  drexciya You must face the power of the black ...  electronic\n",
      "\n",
      "[600 rows x 2 columns]\n",
      "                                                 lyric         genre\n",
      "484  prince I hate it when dudes try to chase me Bu...          rock\n",
      "867  hot hot heat Some days were day dreams Some da...          rock\n",
      "428  the xx I saw you again, it felt like we had ne...       pop-rnb\n",
      "890  life without buildings If i lose you If i lose...          rock\n",
      "671  tortoise D'ou venons-nous? Que sommes-nous? Ou...          rock\n",
      "..                                                 ...           ...\n",
      "849  lali puna Quit your jobs Don't cross you finge...          rock\n",
      "446  high on fire Stealing the blades from the old ...         metal\n",
      "25   chavez I don't know Where I'm going But I sure...  experimental\n",
      "871  the staple singers Oh, mmm.. I know a place Ai...          rock\n",
      "205  lil wayne I got a story to tell, you know that...           rap\n",
      "\n",
      "[328 rows x 2 columns]\n"
     ]
    }
   ],
   "source": [
    "# create pandas dataframe from lryics\n",
    "df_lyrics = pd.DataFrame(list(zip(lyrics, genres)), columns = ['lyric', 'genre'])\n",
    "\n",
    "# shuffle dataframe\n",
    "df_lyrics = df_lyrics.sample(frac=1)\n",
    "\n",
    "print(df_lyrics)\n",
    "\n",
    "df_lyrics_train = df_lyrics[0:600]\n",
    "df_lyrics_test = df_lyrics[601:929]\n",
    "\n",
    "print(df_lyrics_train)\n",
    "print(df_lyrics_test)"
   ]
  },
  {
   "cell_type": "code",
   "execution_count": 29,
   "metadata": {},
   "outputs": [
    {
     "name": "stdout",
     "output_type": "stream",
     "text": [
      "              precision    recall  f1-score   support\n",
      "\n",
      "  electronic       0.26      0.12      0.16        52\n",
      "experimental       0.29      0.11      0.16        37\n",
      "folk-country       0.00      0.00      0.00         7\n",
      "      global       0.00      0.00      0.00         6\n",
      "        jazz       0.80      0.31      0.44        13\n",
      "       metal       0.00      0.00      0.00        11\n",
      "     pop-rnb       0.17      0.05      0.08        19\n",
      "         rap       0.65      0.50      0.57        30\n",
      "        rock       0.54      0.90      0.67       153\n",
      "\n",
      "    accuracy                           0.51       328\n",
      "   macro avg       0.30      0.22      0.23       328\n",
      "weighted avg       0.43      0.51      0.43       328\n",
      "\n"
     ]
    },
    {
     "name": "stderr",
     "output_type": "stream",
     "text": [
      "/courses/TDDE16/venv/lib/python3.6/site-packages/sklearn/metrics/_classification.py:1221: UndefinedMetricWarning: Precision and F-score are ill-defined and being set to 0.0 in labels with no predicted samples. Use `zero_division` parameter to control this behavior.\n",
      "  _warn_prf(average, modifier, msg_start, len(result))\n"
     ]
    }
   ],
   "source": [
    "# classifier (genre based on artist name)\n",
    "from sklearn.naive_bayes import MultinomialNB\n",
    "from sklearn.pipeline import Pipeline\n",
    "from sklearn.feature_extraction.text import CountVectorizer\n",
    "from sklearn.metrics import classification_report\n",
    "\n",
    "pipe = Pipeline([('vectorizer', CountVectorizer()), ('nb', MultinomialNB())])\n",
    "pipe.fit(df_lyrics_train['lyric'], df_lyrics_train['genre'])\n",
    "print(classification_report(y_true = df_lyrics_test['genre'], y_pred=pipe.predict(df_lyrics_test['lyric'])))"
   ]
  },
  {
   "cell_type": "code",
   "execution_count": 32,
   "metadata": {},
   "outputs": [
    {
     "name": "stdout",
     "output_type": "stream",
     "text": [
      "AxesSubplot(0.125,0.125;0.775x0.755)\n"
     ]
    },
    {
     "data": {
      "image/png": "[encoded data removed]",
      "text/plain": [
       "<Figure size 432x288 with 1 Axes>"
      ]
     },
     "metadata": {
      "needs_background": "light"
     },
     "output_type": "display_data"
    }
   ],
   "source": [
    "import matplotlib.pyplot as plt\n",
    "\n",
    "print(df_lyrics_train['genre'].value_counts().plot(kind=\"bar\", title=\"lyric genre distribution\"))\n"
   ]
  }
 ],
 "metadata": {
  "kernelspec": {
   "display_name": "Python 3",
   "language": "python",
   "name": "python3"
  },
  "language_info": {
   "codemirror_mode": {
    "name": "ipython",
    "version": 3
   },
   "file_extension": ".py",
   "mimetype": "text/x-python",
   "name": "python",
   "nbconvert_exporter": "python",
   "pygments_lexer": "ipython3",
   "version": "3.6.9"
  }
 },
 "nbformat": 4,
 "nbformat_minor": 4
}
