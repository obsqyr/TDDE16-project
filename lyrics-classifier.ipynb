{
 "cells": [
  {
   "cell_type": "markdown",
   "metadata": {},
   "source": [
    "# Lyric classifier"
   ]
  },
  {
   "cell_type": "code",
   "execution_count": 5,
   "metadata": {
    "scrolled": true
   },
   "outputs": [
    {
     "name": "stdout",
     "output_type": "stream",
     "text": [
      "['electronic', 'metal', 'rock', 'rap', 'experimental', 'pop/r&b', 'folk/country', 'jazz', 'global']\n",
      "       reviewid         genre  \\\n",
      "18203      6200          rock   \n",
      "3655      19182          rock   \n",
      "1015      21866       pop/r&b   \n",
      "5644      17064  experimental   \n",
      "11272     12852       pop/r&b   \n",
      "...         ...           ...   \n",
      "365       22423  folk/country   \n",
      "14369     10087           rap   \n",
      "910       21868          rock   \n",
      "9883      13988    electronic   \n",
      "16109      7505          rock   \n",
      "\n",
      "                                                 title            artist  \\\n",
      "18203  crooked rain, crooked rain: la's desert origins          pavement   \n",
      "3655                                        spiderland             slint   \n",
      "1015                                        dirty mind            prince   \n",
      "5644                          the disintegration loops  william basinski   \n",
      "11272                        histoire de melody nelson  serge gainsbourg   \n",
      "...                                                ...               ...   \n",
      "365                                 ape in pink marble  devendra banhart   \n",
      "14369                             the undisputed truth       brother ali   \n",
      "910                                            ullages           eagulls   \n",
      "9883                                descending shadows    pierced arrows   \n",
      "16109                                  fab four suture         stereolab   \n",
      "\n",
      "       score  \n",
      "18203   10.0  \n",
      "3655    10.0  \n",
      "1015    10.0  \n",
      "5644    10.0  \n",
      "11272   10.0  \n",
      "...      ...  \n",
      "365      6.6  \n",
      "14369    6.6  \n",
      "910      6.6  \n",
      "9883     6.6  \n",
      "16109    6.6  \n",
      "\n",
      "[15000 rows x 5 columns]\n"
     ]
    }
   ],
   "source": [
    "# https://www.kaggle.com/nolanbconaway/pitchfork-data\n",
    "\n",
    "# scrape from genius\n",
    "# https://chrishyland.github.io/scraping-from-genius/\n",
    "# https://medium.com/analytics-vidhya/how-to-scrape-song-lyrics-a-gentle-python-tutorial-5b1d4ab351d2\n",
    "import sqlite3\n",
    "import pandas as pd\n",
    "\n",
    "# import data\n",
    "con = sqlite3.connect('pitchfork.sqlite')\n",
    "genres = pd.read_sql('SELECT * FROM genres', con)\n",
    "artists = pd.read_sql('SELECT * FROM artists', con)\n",
    "reviews = pd.read_sql('SELECT * FROM reviews', con)\n",
    "con.close()\n",
    "\n",
    "scores = pd.concat([reviews['reviewid'], reviews['score']], axis=1)\n",
    "albums = pd.concat([reviews['reviewid'], reviews['title']], axis=1)\n",
    "\n",
    "genre_classes = genres['genre'].unique()\n",
    "#genre_classes = ['None' if v is None else v for v in genre_classes]\n",
    "genre_classes = [i for i in genre_classes if i]\n",
    "print(genre_classes)\n",
    "\n",
    "# combine genres and artists\n",
    "data = pd.merge(pd.merge(pd.merge(genres, albums, on = 'reviewid'), artists, on='reviewid'), scores, on='reviewid') \n",
    "\n",
    "# remove 'various artists'\n",
    "data = data[data.artist != 'various artists']\n",
    "\n",
    "# remove None genre\n",
    "data = data.dropna()\n",
    "\n",
    "# sort by alphabetically by artist\n",
    "data = data.sort_values(by=['score'], ascending=False)\n",
    "\n",
    "df_train = data[0:15000]\n",
    "df_test = data[15000:len(data)]\n",
    "print(df_train)\n"
   ]
  },
  {
   "cell_type": "code",
   "execution_count": 6,
   "metadata": {},
   "outputs": [],
   "source": [
    "# generate files of artist-album from each genre\n",
    "\n",
    "# init iterator \n",
    "it_genre = {}\n",
    "num_artists = 100\n",
    "\n",
    "# initialize empty genre.txt\n",
    "for genre in genre_classes:\n",
    "    if genre == 'pop/r&b':\n",
    "        f = open(\"artist_album/pop-rnb.txt\", \"w+\")\n",
    "        f.close()\n",
    "        it_genre['pop-rnb'] = num_artists\n",
    "    elif genre == 'folk/country':\n",
    "        f = open(\"artist_album/folk-country.txt\", \"w+\")\n",
    "        f.close()\n",
    "        it_genre['folk-country'] = num_artists\n",
    "    else:\n",
    "        f = open(\"artist_album/\"+genre+\".txt\", \"w+\")\n",
    "        f.close()\n",
    "        it_genre[genre] = num_artists\n",
    "        \n",
    "it_total = sum(it_genre.values())\n",
    "# fill the genre.txt with artist_albums\n",
    "for i, row in enumerate(data.itertuples()):\n",
    "    if sum(it_genre.values()) != 0:\n",
    "        if row.genre == 'pop/r&b':\n",
    "            if it_genre['pop-rnb'] != 0:\n",
    "                f = open(\"artist_album/pop-rnb.txt\", \"a+\")\n",
    "                f.write(row.artist + \"_\" + row.title + \";\")\n",
    "                f.close()\n",
    "                it_genre['pop-rnb'] -= 1\n",
    "        elif row.genre == 'folk/country':\n",
    "            if it_genre['folk-country'] != 0:\n",
    "                f = open(\"artist_album/folk-country.txt\", \"a+\")\n",
    "                f.write(row.artist + \"_\" + row.title + \";\")\n",
    "                f.close()\n",
    "                it_genre['folk-country'] -= 1\n",
    "        else:\n",
    "            if it_genre[row.genre] != 0:\n",
    "                f = open(\"artist_album/\"+row.genre+\".txt\", \"a+\")\n",
    "                f.write(row.artist + \"_\" + row.title + \";\")\n",
    "                f.close()\n",
    "                it_genre[row.genre] -= 1\n",
    "    else:\n",
    "        break"
   ]
  },
  {
   "cell_type": "code",
   "execution_count": 7,
   "metadata": {},
   "outputs": [],
   "source": [
    "import spacy \n",
    "nlp = spacy.load(\"en_core_web_sm\", disable=[\"tagger\", \"parser\", \"ner\"])\n",
    "\n",
    "def preprocess(text):\n",
    "    # TODO: Replace the next line with your own code.\n",
    "    output = []\n",
    "    doc = nlp(text)\n",
    "    for token in doc:\n",
    "        if token.is_alpha and not token.is_stop:\n",
    "            output.append(token.lemma_)\n",
    "    return output"
   ]
  },
  {
   "cell_type": "code",
   "execution_count": 8,
   "metadata": {},
   "outputs": [],
   "source": [
    "# read lyrics from files\n",
    "import os\n",
    "\n",
    "lyrics = []\n",
    "genres = []\n",
    "\n",
    "for filename in os.listdir('lyrics'):\n",
    "    f = open(os.path.join('lyrics', filename), 'r')\n",
    "    lyric = \"\"\n",
    "    for line in f.readlines():\n",
    "        if line != \";\\n\":\n",
    "            lyric += line.replace('\\n','') + ' '\n",
    "        else:\n",
    "            lyrics.append(lyric.lower())\n",
    "            genres.append(filename[:-4])\n",
    "            lyric = \"\"\n",
    "    f.close()\n",
    "    \n",
    "# remove entries that are only whitespace\n",
    "for i, val in enumerate(lyrics):\n",
    "    if val.isspace():\n",
    "        del lyrics[i]\n",
    "        del genres[i]\n",
    "        #print(i)"
   ]
  },
  {
   "cell_type": "code",
   "execution_count": 9,
   "metadata": {},
   "outputs": [
    {
     "name": "stdout",
     "output_type": "stream",
     "text": [
      "experimental when i look at you oh, i don't know what's real once in a while and you make me laugh and i'll sleep tomorrow and it won't be long once in a while then you take me down then you walk away when you say \"i do\" oh, i don't believe in you i can't forget it, ooh when you sleep tomorrow and it won't be long once in a while when you make me smile and you turn your long blonde hair when i look at you oh, i don't know what's real once in a while and you make me laugh and i'll sleep tomorrow and it won't be long once in a while then you take me down then you walk away \n"
     ]
    }
   ],
   "source": [
    "i = 3\n",
    "print(genres[i], lyrics[i])\n",
    "\n"
   ]
  },
  {
   "cell_type": "code",
   "execution_count": 10,
   "metadata": {},
   "outputs": [
    {
     "name": "stdout",
     "output_type": "stream",
     "text": [
      "                                                  lyric         genre\n",
      "87    the twilight fell over the city of god as it f...  experimental\n",
      "373   i love bad bitches, that's my fuckin' problem ...           rap\n",
      "1000  oh! hola! darling, you got to let me know shou...          rock\n",
      "1141  taikutsuna kono ori de magatta futa kōra sete ...  folk-country\n",
      "1049  tea time at damascus computer cafe i'm looking...          rock\n"
     ]
    }
   ],
   "source": [
    "import pandas as pd\n",
    "# create pandas dataframe from lryics\n",
    "df_lyrics = pd.DataFrame(list(zip(lyrics, genres)), columns = ['lyric', 'genre'])\n",
    "\n",
    "# shuffle dataframe\n",
    "df_lyrics = df_lyrics.sample(frac=1)\n",
    "\n",
    "print(df_lyrics.head())\n",
    "\n",
    "df_lyrics_train = df_lyrics[0:900]\n",
    "df_lyrics_test = df_lyrics[901:1224]\n",
    "\n",
    "#print(df_lyrics_train)\n",
    "#print(df_lyrics_test)"
   ]
  },
  {
   "cell_type": "code",
   "execution_count": 11,
   "metadata": {},
   "outputs": [],
   "source": [
    "# undersample training data\n",
    "nmin = df_lyrics_train['genre'].value_counts().min()\n",
    "usdf_lyrics_train = df_lyrics_train.groupby('genre').apply(lambda x: x.sample(nmin)).reset_index(drop=True)"
   ]
  },
  {
   "cell_type": "code",
   "execution_count": 12,
   "metadata": {},
   "outputs": [
    {
     "name": "stdout",
     "output_type": "stream",
     "text": [
      "AxesSubplot(0.125,0.125;0.775x0.755)\n"
     ]
    },
    {
     "data": {
      "image/png": "[encoded data removed]",
      "text/plain": [
       "<Figure size 576x360 with 1 Axes>"
      ]
     },
     "metadata": {
      "needs_background": "light"
     },
     "output_type": "display_data"
    }
   ],
   "source": [
    "import matplotlib.pyplot as plt\n",
    "\n",
    "print(usdf_lyrics_train['genre'].value_counts().plot(kind=\"bar\", title=\"Lyric Genre Distribution (balanced training data set)\", figsize=(8,5)))"
   ]
  },
  {
   "cell_type": "code",
   "execution_count": 15,
   "metadata": {},
   "outputs": [
    {
     "name": "stdout",
     "output_type": "stream",
     "text": [
      "              precision    recall  f1-score   support\n",
      "\n",
      "  electronic       0.07      0.04      0.05        45\n",
      "experimental       0.11      0.08      0.09        49\n",
      "folk-country       0.10      0.13      0.11        30\n",
      "      global       0.09      0.11      0.10        28\n",
      "        jazz       0.05      0.09      0.06        22\n",
      "       metal       0.12      0.09      0.10        46\n",
      "     pop-rnb       0.03      0.04      0.03        28\n",
      "         rap       0.23      0.20      0.21        40\n",
      "        rock       0.14      0.14      0.14        35\n",
      "\n",
      "    accuracy                           0.10       323\n",
      "   macro avg       0.10      0.10      0.10       323\n",
      "weighted avg       0.11      0.10      0.10       323\n",
      "\n",
      "              precision    recall  f1-score   support\n",
      "\n",
      "  electronic       0.14      1.00      0.24        45\n",
      "experimental       0.00      0.00      0.00        49\n",
      "folk-country       0.00      0.00      0.00        30\n",
      "      global       0.00      0.00      0.00        28\n",
      "        jazz       0.00      0.00      0.00        22\n",
      "       metal       0.00      0.00      0.00        46\n",
      "     pop-rnb       0.00      0.00      0.00        28\n",
      "         rap       0.00      0.00      0.00        40\n",
      "        rock       0.00      0.00      0.00        35\n",
      "\n",
      "    accuracy                           0.14       323\n",
      "   macro avg       0.02      0.11      0.03       323\n",
      "weighted avg       0.02      0.14      0.03       323\n",
      "\n"
     ]
    },
    {
     "name": "stderr",
     "output_type": "stream",
     "text": [
      "/courses/TDDE16/venv/lib/python3.6/site-packages/sklearn/metrics/_classification.py:1221: UndefinedMetricWarning: Precision and F-score are ill-defined and being set to 0.0 in labels with no predicted samples. Use `zero_division` parameter to control this behavior.\n",
      "  _warn_prf(average, modifier, msg_start, len(result))\n"
     ]
    }
   ],
   "source": [
    "from sklearn.metrics import classification_report\n",
    "\n",
    "# Baseline classifiers\n",
    "\n",
    "# random sampling, respecting class distribution\n",
    "from sklearn.dummy import DummyClassifier\n",
    "strat_dummy_clf = DummyClassifier(strategy = 'stratified')\n",
    "strat_dummy_clf.fit(usdf_lyrics_train['lyric'], usdf_lyrics_train['genre'])\n",
    "print(classification_report(y_true = df_lyrics_test['genre'], y_pred=strat_dummy_clf.predict(df_lyrics_test['lyric'])))\n",
    "\n",
    "# random sampling, respecting class distribution\n",
    "from sklearn.dummy import DummyClassifier\n",
    "strat_dummy_clf = DummyClassifier(strategy = 'most_frequent')\n",
    "strat_dummy_clf.fit(usdf_lyrics_train['lyric'], usdf_lyrics_train['genre'])\n",
    "print(classification_report(y_true = df_lyrics_test['genre'], y_pred=strat_dummy_clf.predict(df_lyrics_test['lyric'])))"
   ]
  },
  {
   "cell_type": "code",
   "execution_count": 16,
   "metadata": {},
   "outputs": [
    {
     "name": "stdout",
     "output_type": "stream",
     "text": [
      "              precision    recall  f1-score   support\n",
      "\n",
      "  electronic       0.12      0.04      0.07        45\n",
      "experimental       0.25      0.02      0.04        49\n",
      "folk-country       0.00      0.00      0.00        30\n",
      "      global       0.29      0.29      0.29        28\n",
      "        jazz       0.00      0.00      0.00        22\n",
      "       metal       0.59      0.22      0.32        46\n",
      "     pop-rnb       0.20      0.36      0.26        28\n",
      "         rap       0.21      0.93      0.34        40\n",
      "        rock       0.16      0.11      0.13        35\n",
      "\n",
      "    accuracy                           0.22       323\n",
      "   macro avg       0.20      0.22      0.16       323\n",
      "weighted avg       0.22      0.22      0.16       323\n",
      "\n"
     ]
    }
   ],
   "source": [
    "# classifier (genre based on artist lyrics)\n",
    "# count vectorizer & multinomial NB predictor\n",
    "from sklearn.naive_bayes import MultinomialNB\n",
    "from sklearn.pipeline import Pipeline\n",
    "from sklearn.feature_extraction.text import CountVectorizer\n",
    "from sklearn.metrics import classification_report\n",
    "\n",
    "pipe1 = Pipeline([('vectorizer', CountVectorizer()), ('nb', MultinomialNB())])\n",
    "pipe1.fit(usdf_lyrics_train['lyric'], usdf_lyrics_train['genre'])\n",
    "print(classification_report(y_true = df_lyrics_test['genre'], y_pred=pipe1.predict(df_lyrics_test['lyric'])))"
   ]
  },
  {
   "cell_type": "code",
   "execution_count": 17,
   "metadata": {},
   "outputs": [
    {
     "name": "stdout",
     "output_type": "stream",
     "text": [
      "              precision    recall  f1-score   support\n",
      "\n",
      "  electronic       0.10      0.02      0.04        45\n",
      "experimental       0.50      0.04      0.08        49\n",
      "folk-country       0.12      0.03      0.05        30\n",
      "      global       0.16      0.14      0.15        28\n",
      "        jazz       0.00      0.00      0.00        22\n",
      "       metal       0.71      0.11      0.19        46\n",
      "     pop-rnb       0.13      0.14      0.14        28\n",
      "         rap       0.17      0.97      0.29        40\n",
      "        rock       0.18      0.06      0.09        35\n",
      "\n",
      "    accuracy                           0.18       323\n",
      "   macro avg       0.23      0.17      0.11       323\n",
      "weighted avg       0.27      0.18      0.12       323\n",
      "\n"
     ]
    }
   ],
   "source": [
    "# classifier (genre based on artist lyrics)\n",
    "# tfidf vectorizer & multionomial NB predictor\n",
    "\n",
    "from sklearn.feature_extraction.text import TfidfVectorizer\n",
    "\n",
    "pipe2 = Pipeline([('vectorizer', TfidfVectorizer()), ('nb', MultinomialNB())])\n",
    "pipe2.fit(usdf_lyrics_train['lyric'], usdf_lyrics_train['genre'])\n",
    "print(classification_report(y_true = df_lyrics_test['genre'], y_pred=pipe2.predict(df_lyrics_test['lyric'])))"
   ]
  },
  {
   "cell_type": "code",
   "execution_count": 12,
   "metadata": {},
   "outputs": [
    {
     "name": "stdout",
     "output_type": "stream",
     "text": [
      "              precision    recall  f1-score   support\n",
      "\n",
      "  electronic       0.14      0.13      0.14        39\n",
      "experimental       0.26      0.19      0.22        52\n",
      "folk-country       0.16      0.15      0.15        34\n",
      "      global       0.14      0.20      0.16        20\n",
      "        jazz       0.08      0.24      0.12        17\n",
      "       metal       0.31      0.18      0.23        50\n",
      "     pop-rnb       0.23      0.26      0.24        27\n",
      "         rap       0.62      0.65      0.63        40\n",
      "        rock       0.16      0.14      0.15        44\n",
      "\n",
      "    accuracy                           0.24       323\n",
      "   macro avg       0.23      0.24      0.23       323\n",
      "weighted avg       0.25      0.24      0.24       323\n",
      "\n"
     ]
    }
   ],
   "source": [
    "# classifier (genre based on artist lyrics)\n",
    "# tfidf vectorizer & Multilayer Perceptron Classifier\n",
    "from sklearn.neural_network import MLPClassifier\n",
    "\n",
    "pipe3 = Pipeline([('vectorizer', TfidfVectorizer()), ('mlp', MLPClassifier(max_iter=400))])\n",
    "pipe3.fit(usdf_lyrics_train['lyric'], usdf_lyrics_train['genre'])\n",
    "print(classification_report(y_true = df_lyrics_test['genre'], y_pred=pipe3.predict(df_lyrics_test['lyric'])))\n",
    "\n"
   ]
  },
  {
   "cell_type": "code",
   "execution_count": 18,
   "metadata": {},
   "outputs": [
    {
     "name": "stdout",
     "output_type": "stream",
     "text": [
      "              precision    recall  f1-score   support\n",
      "\n",
      "  electronic       0.20      0.11      0.14        45\n",
      "experimental       0.21      0.12      0.15        49\n",
      "folk-country       0.17      0.17      0.17        30\n",
      "      global       0.19      0.36      0.25        28\n",
      "        jazz       0.33      0.18      0.24        22\n",
      "       metal       0.33      0.35      0.34        46\n",
      "     pop-rnb       0.30      0.32      0.31        28\n",
      "         rap       0.54      0.72      0.62        40\n",
      "        rock       0.07      0.09      0.08        35\n",
      "\n",
      "    accuracy                           0.27       323\n",
      "   macro avg       0.26      0.27      0.25       323\n",
      "weighted avg       0.26      0.27      0.26       323\n",
      "\n"
     ]
    }
   ],
   "source": [
    "# classifier (genre based on artist lyrics)\n",
    "# tfidf vectorizer & suppoert vector machine\n",
    "from sklearn import svm\n",
    "\n",
    "pipe4 = Pipeline([('vectorizer', TfidfVectorizer()), ('svm', svm.SVC())])\n",
    "pipe4.fit(usdf_lyrics_train['lyric'], usdf_lyrics_train['genre'])\n",
    "print(classification_report(y_true = df_lyrics_test['genre'], y_pred=pipe4.predict(df_lyrics_test['lyric'])))"
   ]
  },
  {
   "cell_type": "code",
   "execution_count": null,
   "metadata": {},
   "outputs": [
    {
     "name": "stdout",
     "output_type": "stream",
     "text": [
      "dict_keys(['memory', 'steps', 'verbose', 'vectorizer', 'svm', 'vectorizer__analyzer', 'vectorizer__binary', 'vectorizer__decode_error', 'vectorizer__dtype', 'vectorizer__encoding', 'vectorizer__input', 'vectorizer__lowercase', 'vectorizer__max_df', 'vectorizer__max_features', 'vectorizer__min_df', 'vectorizer__ngram_range', 'vectorizer__norm', 'vectorizer__preprocessor', 'vectorizer__smooth_idf', 'vectorizer__stop_words', 'vectorizer__strip_accents', 'vectorizer__sublinear_tf', 'vectorizer__token_pattern', 'vectorizer__tokenizer', 'vectorizer__use_idf', 'vectorizer__vocabulary', 'svm__C', 'svm__break_ties', 'svm__cache_size', 'svm__class_weight', 'svm__coef0', 'svm__decision_function_shape', 'svm__degree', 'svm__gamma', 'svm__kernel', 'svm__max_iter', 'svm__probability', 'svm__random_state', 'svm__shrinking', 'svm__tol', 'svm__verbose'])\n"
     ]
    }
   ],
   "source": [
    "# CV on SVC\n",
    "from sklearn.model_selection import GridSearchCV\n",
    "parameters = {'svm__kernel':['linear', 'rbf', 'poly', 'sigmoid'], \n",
    "              \"vectorizer__binary\" : [False, True], \"vectorizer__ngram_range\" : [(1,1), (1,2), (2,2)],\n",
    "             \"vectorizer__stop_words\" : ['english', None], \"svm__C\" : [1, 1.1, 1.2, 1.3, 1.4, 1.5]} \n",
    "\n",
    "print(pipe4.get_params().keys())\n",
    "\n",
    "cv_classifier = GridSearchCV(pipe4, parameters) # by default: 5 fold CV\n",
    "cv_classifier.fit(usdf_lyrics_train['lyric'], usdf_lyrics_train['genre'])"
   ]
  },
  {
   "cell_type": "code",
   "execution_count": 15,
   "metadata": {},
   "outputs": [
    {
     "name": "stdout",
     "output_type": "stream",
     "text": [
      "{'svm__C': 1.5, 'svm__kernel': 'rbf', 'vectorizer__binary': True, 'vectorizer__ngram_range': (1, 1), 'vectorizer__stop_words': None}\n",
      "              precision    recall  f1-score   support\n",
      "\n",
      "  electronic       0.00      0.00      0.00        39\n",
      "experimental       0.33      0.12      0.17        52\n",
      "folk-country       0.30      0.47      0.36        34\n",
      "      global       0.25      0.30      0.27        20\n",
      "        jazz       0.22      0.12      0.15        17\n",
      "       metal       0.36      0.32      0.34        50\n",
      "     pop-rnb       0.18      0.26      0.21        27\n",
      "         rap       0.58      0.80      0.67        40\n",
      "        rock       0.19      0.25      0.22        44\n",
      "\n",
      "    accuracy                           0.30       323\n",
      "   macro avg       0.27      0.29      0.27       323\n",
      "weighted avg       0.28      0.30      0.27       323\n",
      "\n"
     ]
    }
   ],
   "source": [
    "#usdf_lyrics_train.to_numpy()\n",
    "print(cv_classifier.best_params_)\n",
    "\n",
    "print(classification_report(y_true = df_lyrics_test['genre'], y_pred=cv_classifier.best_estimator_.predict(df_lyrics_test['lyric'])))"
   ]
  },
  {
   "cell_type": "code",
   "execution_count": 21,
   "metadata": {},
   "outputs": [
    {
     "data": {
      "text/plain": [
       "<sklearn.metrics._plot.confusion_matrix.ConfusionMatrixDisplay at 0x7fd3134ba208>"
      ]
     },
     "execution_count": 21,
     "metadata": {},
     "output_type": "execute_result"
    },
    {
     "data": {
      "image/png": "[encoded data removed]",
      "text/plain": [
       "<Figure size 432x288 with 2 Axes>"
      ]
     },
     "metadata": {
      "needs_background": "light"
     },
     "output_type": "display_data"
    }
   ],
   "source": [
    "# confusion matrix\n",
    "from sklearn.metrics import confusion_matrix\n",
    "from sklearn.metrics import plot_confusion_matrix\n",
    "cm = confusion_matrix(y_true=df_lyrics_test['genre'], y_pred=pipe1.predict(df_lyrics_test['lyric']))\n",
    "#print(cm)\n",
    "\n",
    "plot_confusion_matrix(pipe4, df_lyrics_test['lyric'], df_lyrics_test['genre'])\n",
    "plot_confusion_matrix(cv_classifier.best_estimator_, df_lyrics_test['lyric'], df_lyrics_test['genre'])\n"
   ]
  },
  {
   "cell_type": "markdown",
   "metadata": {},
   "source": [
    "# Further analysis"
   ]
  },
  {
   "cell_type": "code",
   "execution_count": 17,
   "metadata": {},
   "outputs": [
    {
     "name": "stdout",
     "output_type": "stream",
     "text": [
      "{'electronic': 36.78823529411765, 'experimental': 40.892857142857146, 'folk-country': 48.77391304347826, 'global': 44.01136363636363, 'jazz': 59.64705882352941, 'metal': 48.76969696969697, 'pop-rnb': 42.15503875968992, 'rap': 91.08917197452229, 'rock': 41.17142857142857}\n",
      "Counter({'rock': 175, 'electronic': 170, 'metal': 165, 'rap': 157, 'experimental': 140, 'pop-rnb': 129, 'folk-country': 115, 'global': 88, 'jazz': 85})\n"
     ]
    },
    {
     "data": {
      "image/png": "[encoded data removed]",
      "text/plain": [
       "<Figure size 936x360 with 1 Axes>"
      ]
     },
     "metadata": {
      "needs_background": "light"
     },
     "output_type": "display_data"
    }
   ],
   "source": [
    "import matplotlib.pyplot as plt\n",
    "import collections\n",
    "\n",
    "# average amount of words\n",
    "d = {'electronic': [], 'experimental' : [],\n",
    "                     'folk-country' : [], 'global' : [],\n",
    "                     'jazz' : [], 'metal' : [], 'pop-rnb' : [],\n",
    "                     'rap' : [], 'rock' : []}\n",
    "\n",
    "\n",
    "for lyric, genre in zip(lyrics, genres):\n",
    "    d[genre].extend(set(lyric.split()))\n",
    "    \n",
    "num = collections.Counter(genres)\n",
    "for key in d.keys():\n",
    "    d[key] = len(set(d[key])) / num[key]\n",
    "    \n",
    "print(d)\n",
    "print(num)\n",
    "\n",
    "plt.figure(figsize=(13,5))\n",
    "plt.bar(d.keys(), d.values())\n",
    "plt.title('Average Unique Words Per Lyric')\n",
    "plt.show()\n"
   ]
  },
  {
   "cell_type": "code",
   "execution_count": null,
   "metadata": {},
   "outputs": [],
   "source": [
    "import matplotlib.pyplot as plt\n",
    "import collections\n",
    "\n",
    "# average amount of words\n",
    "d = {'electronic': [], 'experimental' : [],\n",
    "                     'folk-country' : [], 'global' : [],\n",
    "                     'jazz' : [], 'metal' : [], 'pop-rnb' : [],\n",
    "                     'rap' : [], 'rock' : []}\n",
    "\n",
    "\n",
    "for lyric, genre in zip(lyrics, genres):\n",
    "    d[genre].extend(lyric.split())\n",
    "    \n",
    "num = collections.Counter(genres)\n",
    "for key in d.keys():\n",
    "    d[key] = len(set(d[key])) / num[key]\n",
    "    \n",
    "print(d)\n",
    "print(num)\n",
    "\n",
    "plt.figure(figsize=(13,5))\n",
    "plt.bar(d.keys(), d.values())\n",
    "plt.title('Average Unique Words Per Lyric')\n",
    "plt.show()\n"
   ]
  },
  {
   "cell_type": "code",
   "execution_count": 4,
   "metadata": {},
   "outputs": [
    {
     "data": {
      "image/png": "[encoded data removed]",
      "text/plain": [
       "<Figure size 720x504 with 1 Axes>"
      ]
     },
     "metadata": {
      "needs_background": "light"
     },
     "output_type": "display_data"
    }
   ],
   "source": [
    "# review bias to genre?\n",
    "\n",
    "import sqlite3\n",
    "import pandas as pd\n",
    "import numpy as np\n",
    "import matplotlib.pyplot as plt\n",
    "#import seaborn as sns\n",
    "from scipy.signal import savgol_filter\n",
    "\n",
    "pd.set_option('precision', 2)\n",
    "np.set_printoptions(precision=2)\n",
    "\n",
    "con = sqlite3.connect('pitchfork.sqlite')\n",
    "reviews = pd.read_sql('SELECT * FROM reviews', con)\n",
    "genres = pd.read_sql('SELECT * FROM genres', con)\n",
    "con.close()\n",
    "\n",
    "plt.figure(figsize=(10,7))\n",
    "genre_data = pd.merge(reviews[['reviewid','score']], genres, \n",
    "                  on = 'reviewid')\n",
    "\n",
    "g = genre_data.groupby('genre')\n",
    "table = g['score'].agg(['count', 'mean', 'std']).reset_index()\n",
    "\n",
    "# plot the average at each level of count\n",
    "avgline = table.groupby('count')['mean'].mean().reset_index()\n",
    "avgline['mean'] = savgol_filter(avgline['mean'], 5, 1)\n",
    "plt.plot(avgline['count'], avgline['mean'],'k--')\n",
    "\n",
    "plt.plot(table['count'],table['mean'],'o', alpha = 1)\n",
    "\n",
    "for j, row in table.iterrows():\n",
    "    curr_avg = float(avgline.loc[avgline['count'] == row['count'], 'mean'])\n",
    "    jitter = np.random.uniform(0.1, high = 0.5)\n",
    "    if row['mean'] < curr_avg: jitter*= -1.0\n",
    "    \n",
    "    plt.plot([row['count'], row['count']], [row['mean'], row['mean'] + jitter], 'k-', alpha = 0.1)\n",
    "    plt.text(row['count'], row['mean'] + jitter, row['genre'], \n",
    "             ha = 'center', va = 'center')\n",
    "\n",
    "plt.ylabel('Average Score')\n",
    "plt.xlabel('Number of Reviews')\n",
    "plt.ylim([5, 10])\n",
    "plt.show()"
   ]
  }
 ],
 "metadata": {
  "kernelspec": {
   "display_name": "Python 3",
   "language": "python",
   "name": "python3"
  },
  "language_info": {
   "codemirror_mode": {
    "name": "ipython",
    "version": 3
   },
   "file_extension": ".py",
   "mimetype": "text/x-python",
   "name": "python",
   "nbconvert_exporter": "python",
   "pygments_lexer": "ipython3",
   "version": "3.6.9"
  }
 },
 "nbformat": 4,
 "nbformat_minor": 4
}
